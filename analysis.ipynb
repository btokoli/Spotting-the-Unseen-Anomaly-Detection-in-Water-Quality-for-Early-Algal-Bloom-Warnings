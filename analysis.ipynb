{
 "cells": [
  {
   "cell_type": "markdown",
   "metadata": {},
   "source": [
    "### Import Libraries"
   ]
  },
  {
   "cell_type": "code",
   "execution_count": 5,
   "metadata": {},
   "outputs": [],
   "source": [
    "import pandas as pd\n",
    "import numpy as np\n",
    "import matplotlib as plt\n",
    "import seaborn as sns"
   ]
  },
  {
   "cell_type": "markdown",
   "metadata": {},
   "source": [
    "### Load data and check shape, info, missing values and duplicates"
   ]
  },
  {
   "cell_type": "code",
   "execution_count": 6,
   "metadata": {},
   "outputs": [],
   "source": [
    "#Loading the data\n",
    "data= pd.read_csv(\"habsos.csv\", low_memory=False)"
   ]
  },
  {
   "cell_type": "code",
   "execution_count": 7,
   "metadata": {},
   "outputs": [
    {
     "data": {
      "text/html": [
       "<div>\n",
       "<style scoped>\n",
       "    .dataframe tbody tr th:only-of-type {\n",
       "        vertical-align: middle;\n",
       "    }\n",
       "\n",
       "    .dataframe tbody tr th {\n",
       "        vertical-align: top;\n",
       "    }\n",
       "\n",
       "    .dataframe thead th {\n",
       "        text-align: right;\n",
       "    }\n",
       "</style>\n",
       "<table border=\"1\" class=\"dataframe\">\n",
       "  <thead>\n",
       "    <tr style=\"text-align: right;\">\n",
       "      <th></th>\n",
       "      <th>STATE_ID</th>\n",
       "      <th>DESCRIPTION</th>\n",
       "      <th>Unnamed: 2</th>\n",
       "      <th>LATITUDE</th>\n",
       "      <th>LONGITUDE</th>\n",
       "      <th>SAMPLE_DATE</th>\n",
       "      <th>SAMPLE_TIME</th>\n",
       "      <th>SAMPLE_DEPTH</th>\n",
       "      <th>GENUS</th>\n",
       "      <th>SPECIES</th>\n",
       "      <th>...</th>\n",
       "      <th>WATER_TEMP_UNIT</th>\n",
       "      <th>WATER_TEMP_QA</th>\n",
       "      <th>WIND_DIR</th>\n",
       "      <th>WIND_DIR_UNIT</th>\n",
       "      <th>WIND_DIR_QA</th>\n",
       "      <th>WIND_SPEED</th>\n",
       "      <th>WIND_SPEED_UNIT</th>\n",
       "      <th>WIND_SPEED_QA</th>\n",
       "      <th>OBJECTID</th>\n",
       "      <th>Unnamed: 27</th>\n",
       "    </tr>\n",
       "  </thead>\n",
       "  <tbody>\n",
       "    <tr>\n",
       "      <th>0</th>\n",
       "      <td>TX</td>\n",
       "      <td>Copano Bay 4</td>\n",
       "      <td>NaN</td>\n",
       "      <td>28.07</td>\n",
       "      <td>-97.22</td>\n",
       "      <td>2023/09/27</td>\n",
       "      <td>7:14</td>\n",
       "      <td>NaN</td>\n",
       "      <td>Karenia</td>\n",
       "      <td>brevis</td>\n",
       "      <td>...</td>\n",
       "      <td>NaN</td>\n",
       "      <td>9</td>\n",
       "      <td>NaN</td>\n",
       "      <td>NaN</td>\n",
       "      <td>9</td>\n",
       "      <td>NaN</td>\n",
       "      <td>NaN</td>\n",
       "      <td>9</td>\n",
       "      <td>2134075</td>\n",
       "      <td>NaN</td>\n",
       "    </tr>\n",
       "    <tr>\n",
       "      <th>1</th>\n",
       "      <td>TX</td>\n",
       "      <td>Copano Bay 2</td>\n",
       "      <td>NaN</td>\n",
       "      <td>28.00</td>\n",
       "      <td>-97.17</td>\n",
       "      <td>2023/09/27</td>\n",
       "      <td>8:21</td>\n",
       "      <td>NaN</td>\n",
       "      <td>Karenia</td>\n",
       "      <td>brevis</td>\n",
       "      <td>...</td>\n",
       "      <td>NaN</td>\n",
       "      <td>9</td>\n",
       "      <td>NaN</td>\n",
       "      <td>NaN</td>\n",
       "      <td>9</td>\n",
       "      <td>NaN</td>\n",
       "      <td>NaN</td>\n",
       "      <td>9</td>\n",
       "      <td>2134077</td>\n",
       "      <td>NaN</td>\n",
       "    </tr>\n",
       "    <tr>\n",
       "      <th>2</th>\n",
       "      <td>TX</td>\n",
       "      <td>Copano Bay 3</td>\n",
       "      <td>NaN</td>\n",
       "      <td>28.04</td>\n",
       "      <td>-97.16</td>\n",
       "      <td>2023/09/27</td>\n",
       "      <td>7:45</td>\n",
       "      <td>NaN</td>\n",
       "      <td>Karenia</td>\n",
       "      <td>brevis</td>\n",
       "      <td>...</td>\n",
       "      <td>NaN</td>\n",
       "      <td>9</td>\n",
       "      <td>NaN</td>\n",
       "      <td>NaN</td>\n",
       "      <td>9</td>\n",
       "      <td>NaN</td>\n",
       "      <td>NaN</td>\n",
       "      <td>9</td>\n",
       "      <td>2134076</td>\n",
       "      <td>NaN</td>\n",
       "    </tr>\n",
       "    <tr>\n",
       "      <th>3</th>\n",
       "      <td>TX</td>\n",
       "      <td>Copano Bay 1</td>\n",
       "      <td>NaN</td>\n",
       "      <td>28.06</td>\n",
       "      <td>-97.11</td>\n",
       "      <td>2023/09/27</td>\n",
       "      <td>9:07</td>\n",
       "      <td>NaN</td>\n",
       "      <td>Karenia</td>\n",
       "      <td>brevis</td>\n",
       "      <td>...</td>\n",
       "      <td>NaN</td>\n",
       "      <td>9</td>\n",
       "      <td>NaN</td>\n",
       "      <td>NaN</td>\n",
       "      <td>9</td>\n",
       "      <td>NaN</td>\n",
       "      <td>NaN</td>\n",
       "      <td>9</td>\n",
       "      <td>2134078</td>\n",
       "      <td>NaN</td>\n",
       "    </tr>\n",
       "    <tr>\n",
       "      <th>4</th>\n",
       "      <td>FL</td>\n",
       "      <td>off New Smyrna Beach; Atlantic</td>\n",
       "      <td>NaN</td>\n",
       "      <td>29.17</td>\n",
       "      <td>-78.28</td>\n",
       "      <td>1990/12/20</td>\n",
       "      <td>NaN</td>\n",
       "      <td>0.50</td>\n",
       "      <td>Karenia</td>\n",
       "      <td>brevis</td>\n",
       "      <td>...</td>\n",
       "      <td>deg. C</td>\n",
       "      <td>1</td>\n",
       "      <td>NaN</td>\n",
       "      <td>NaN</td>\n",
       "      <td>9</td>\n",
       "      <td>NaN</td>\n",
       "      <td>NaN</td>\n",
       "      <td>9</td>\n",
       "      <td>1590299</td>\n",
       "      <td>NaN</td>\n",
       "    </tr>\n",
       "  </tbody>\n",
       "</table>\n",
       "<p>5 rows × 28 columns</p>\n",
       "</div>"
      ],
      "text/plain": [
       "  STATE_ID                     DESCRIPTION  Unnamed: 2  LATITUDE  LONGITUDE  \\\n",
       "0       TX                    Copano Bay 4         NaN     28.07     -97.22   \n",
       "1       TX                    Copano Bay 2         NaN     28.00     -97.17   \n",
       "2       TX                    Copano Bay 3         NaN     28.04     -97.16   \n",
       "3       TX                    Copano Bay 1         NaN     28.06     -97.11   \n",
       "4       FL  off New Smyrna Beach; Atlantic         NaN     29.17     -78.28   \n",
       "\n",
       "  SAMPLE_DATE SAMPLE_TIME  SAMPLE_DEPTH    GENUS SPECIES  ... WATER_TEMP_UNIT  \\\n",
       "0  2023/09/27        7:14           NaN  Karenia  brevis  ...             NaN   \n",
       "1  2023/09/27        8:21           NaN  Karenia  brevis  ...             NaN   \n",
       "2  2023/09/27        7:45           NaN  Karenia  brevis  ...             NaN   \n",
       "3  2023/09/27        9:07           NaN  Karenia  brevis  ...             NaN   \n",
       "4  1990/12/20         NaN          0.50  Karenia  brevis  ...          deg. C   \n",
       "\n",
       "   WATER_TEMP_QA WIND_DIR  WIND_DIR_UNIT  WIND_DIR_QA WIND_SPEED  \\\n",
       "0              9      NaN            NaN            9        NaN   \n",
       "1              9      NaN            NaN            9        NaN   \n",
       "2              9      NaN            NaN            9        NaN   \n",
       "3              9      NaN            NaN            9        NaN   \n",
       "4              1      NaN            NaN            9        NaN   \n",
       "\n",
       "   WIND_SPEED_UNIT  WIND_SPEED_QA OBJECTID  Unnamed: 27  \n",
       "0              NaN              9  2134075          NaN  \n",
       "1              NaN              9  2134077          NaN  \n",
       "2              NaN              9  2134076          NaN  \n",
       "3              NaN              9  2134078          NaN  \n",
       "4              NaN              9  1590299          NaN  \n",
       "\n",
       "[5 rows x 28 columns]"
      ]
     },
     "execution_count": 7,
     "metadata": {},
     "output_type": "execute_result"
    }
   ],
   "source": [
    "#Checking first 5 rows of the data\n",
    "data.head(5)"
   ]
  },
  {
   "cell_type": "code",
   "execution_count": 8,
   "metadata": {},
   "outputs": [
    {
     "name": "stdout",
     "output_type": "stream",
     "text": [
      "<class 'pandas.core.frame.DataFrame'>\n",
      "RangeIndex: 211834 entries, 0 to 211833\n",
      "Data columns (total 28 columns):\n",
      " #   Column           Non-Null Count   Dtype  \n",
      "---  ------           --------------   -----  \n",
      " 0   STATE_ID         211834 non-null  object \n",
      " 1   DESCRIPTION      211811 non-null  object \n",
      " 2   Unnamed: 2       0 non-null       float64\n",
      " 3   LATITUDE         211834 non-null  float64\n",
      " 4   LONGITUDE        211834 non-null  float64\n",
      " 5   SAMPLE_DATE      211834 non-null  object \n",
      " 6   SAMPLE_TIME      162914 non-null  object \n",
      " 7   SAMPLE_DEPTH     206331 non-null  float64\n",
      " 8   GENUS            211834 non-null  object \n",
      " 9   SPECIES          211834 non-null  object \n",
      " 10  CATEGORY         210978 non-null  object \n",
      " 11  CELLCOUNT        211834 non-null  int64  \n",
      " 12  CELLCOUNT_UNIT   211834 non-null  object \n",
      " 13  CELLCOUNT_QA     211642 non-null  float64\n",
      " 14  SALINITY         108098 non-null  float64\n",
      " 15  SALINITY_UNIT    108098 non-null  object \n",
      " 16  SALINITY_QA      211834 non-null  int64  \n",
      " 17  WATER_TEMP       106724 non-null  float64\n",
      " 18  WATER_TEMP_UNIT  106724 non-null  object \n",
      " 19  WATER_TEMP_QA    211834 non-null  int64  \n",
      " 20  WIND_DIR         1029 non-null    float64\n",
      " 21  WIND_DIR_UNIT    1029 non-null    object \n",
      " 22  WIND_DIR_QA      211834 non-null  int64  \n",
      " 23  WIND_SPEED       1992 non-null    float64\n",
      " 24  WIND_SPEED_UNIT  1992 non-null    object \n",
      " 25  WIND_SPEED_QA    211834 non-null  int64  \n",
      " 26  OBJECTID         211834 non-null  int64  \n",
      " 27  Unnamed: 27      0 non-null       float64\n",
      "dtypes: float64(10), int64(6), object(12)\n",
      "memory usage: 45.3+ MB\n"
     ]
    }
   ],
   "source": [
    "data.info()"
   ]
  },
  {
   "cell_type": "markdown",
   "metadata": {},
   "source": [
    "### Clean data of missing values and duplicate data"
   ]
  },
  {
   "cell_type": "markdown",
   "metadata": {},
   "source": [
    "### Perform descriptive analysis of numerical features and categorical features"
   ]
  },
  {
   "cell_type": "markdown",
   "metadata": {},
   "source": [
    "### Univariate analysis of numerical variables. check the distributions"
   ]
  },
  {
   "cell_type": "markdown",
   "metadata": {},
   "source": [
    "### Univariate analysis of categorical variables. count plots of each feature with labels, pie charts if necessary"
   ]
  },
  {
   "cell_type": "markdown",
   "metadata": {},
   "source": [
    "### Bivariate analysis of numerical varibles, scatter plots, correlation heatmaps"
   ]
  },
  {
   "cell_type": "markdown",
   "metadata": {},
   "source": [
    "### Bivariate Analysis of categorical variables, count plots with hues"
   ]
  },
  {
   "cell_type": "markdown",
   "metadata": {},
   "source": [
    "### Bivariate analysis of numerical variables and categorical variables"
   ]
  },
  {
   "cell_type": "markdown",
   "metadata": {},
   "source": [
    "### Multivariate analysis"
   ]
  },
  {
   "cell_type": "markdown",
   "metadata": {},
   "source": []
  }
 ],
 "metadata": {
  "kernelspec": {
   "display_name": "jobs",
   "language": "python",
   "name": "python3"
  },
  "language_info": {
   "codemirror_mode": {
    "name": "ipython",
    "version": 3
   },
   "file_extension": ".py",
   "mimetype": "text/x-python",
   "name": "python",
   "nbconvert_exporter": "python",
   "pygments_lexer": "ipython3",
   "version": "3.9.18"
  }
 },
 "nbformat": 4,
 "nbformat_minor": 2
}
